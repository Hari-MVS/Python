{
 "cells": [
  {
   "cell_type": "markdown",
   "metadata": {},
   "source": [
    "BUBBLE SORT"
   ]
  },
  {
   "cell_type": "code",
   "execution_count": null,
   "metadata": {},
   "outputs": [],
   "source": [
    "def buuble(n):\n",
    "    l = len(n)\n",
    "    for i in range(l):\n",
    "        swap = False\n",
    "        for j in range(l-i-1):\n",
    "            if n[j] > n[j+1]:\n",
    "                temp = n[j]\n",
    "                n[j] = n[j+1]\n",
    "                n[j+1] = temp\n",
    "                swap = True\n",
    "        if swap == False:\n",
    "            break\n",
    "    return n\n",
    "\n",
    "if __name__ == '__main__':\n",
    "    n = [2,1,9,3,7,5,6,4,8,0]\n",
    "    print('sorted array')\n",
    "    print(buuble(n))\n",
    "    print(buuble(n)[::-1])  # For DESC"
   ]
  },
  {
   "cell_type": "markdown",
   "metadata": {},
   "source": [
    "INSERTION SORT"
   ]
  },
  {
   "cell_type": "code",
   "execution_count": null,
   "metadata": {},
   "outputs": [],
   "source": [
    "def insert(a):\n",
    "    l = len(a)\n",
    "    for i in range(1,l):\n",
    "        key = a[i]\n",
    "        j = i-1\n",
    "        while j >= 0 and a[j] > key:\n",
    "            a[j +1] = a[j]\n",
    "            j -= 1\n",
    "        a[j+1] = key\n",
    "    return a \n",
    "if __name__ == '__main__':\n",
    "    arr = [24, 17, 66, 33, 72, 47, 68, 41, 105, 30]\n",
    "    print('insertion array')\n",
    "    print(insert(arr))"
   ]
  },
  {
   "cell_type": "markdown",
   "metadata": {},
   "source": [
    "SELECTION SORT"
   ]
  },
  {
   "cell_type": "code",
   "execution_count": null,
   "metadata": {},
   "outputs": [],
   "source": [
    "# selction sorting\n",
    "\n",
    "def select_sort (arr,size):\n",
    "    for i in range(size):\n",
    "        min_idx = i\n",
    "        for j in range(i+1,size):\n",
    "            if arr[j] < min_idx:\n",
    "                min_idx = j\n",
    "        arr[i],arr[min_idx] = arr[min_idx],arr[i]\n",
    "\n",
    "data = [-2, 45, 0, 11,45,45, -9]\n",
    "size = len(data)\n",
    "select_sort(data,size)\n",
    "print(data)\n",
    "\n"
   ]
  },
  {
   "cell_type": "markdown",
   "metadata": {},
   "source": [
    "MERGE SORT"
   ]
  },
  {
   "cell_type": "code",
   "execution_count": null,
   "metadata": {},
   "outputs": [],
   "source": [
    "def mergesort(a):\n",
    "    if len(a) > 1:\n",
    "        r = len(a)//2\n",
    "        l = a[:r]\n",
    "        m = a[r:]\n",
    "\n",
    "        mergesort(l)\n",
    "        mergesort(m)\n",
    "\n",
    "        i=j=k = 0\n",
    "        while i < len(l) and j < len(m) :\n",
    "            if l[i] < m[j]:\n",
    "                a[k] = l[i]\n",
    "                i += 1\n",
    "            else:\n",
    "                a[k] = m[j]\n",
    "                j += 1\n",
    "            k += 1\n",
    "        \n",
    "        while i < len(l) :\n",
    "            a[k] = l[i]\n",
    "            i += 1\n",
    "            k += 1\n",
    "        while j < len(m) :\n",
    "            a[k] = m[j]\n",
    "            j += 1\n",
    "            k += 1\n",
    "    return a\n",
    "\n",
    "\"\"\" def merging(a) :\n",
    "    for i in range(len(a)) :\n",
    "        print(a[i], end=' ')\n",
    "    print() \"\"\"\n",
    "if __name__ == '__main__' :\n",
    "    a = [29,99,27,41,66,28,44,78,87,19,31,76,58,88,83,97,12,21,44]\n",
    "    print(mergesort(a))\n",
    "    # merging(a)\n",
    "    \n",
    "\n"
   ]
  },
  {
   "cell_type": "markdown",
   "metadata": {},
   "source": [
    "QUICK SORT"
   ]
  },
  {
   "cell_type": "code",
   "execution_count": null,
   "metadata": {},
   "outputs": [],
   "source": [
    "def partition(a,start,end):\n",
    "    pivot = a[start]\n",
    "    low = start+1\n",
    "    high = end\n",
    "\n",
    "    while True:\n",
    "        while low <= high and a[high] >= pivot:\n",
    "            high -=1\n",
    "        while low <= high and a[low] <= pivot:\n",
    "            low += 1\n",
    "        if low <= high:\n",
    "            a[low],a[high] = a[high],a[low]\n",
    "        else:\n",
    "            break\n",
    "    a[start],a[high] = a[high],a[start]\n",
    "    return high\n",
    "\n",
    "def quicksort(a,start,end):\n",
    "    if start >= end:\n",
    "        return\n",
    "    p = partition(a,start,end)\n",
    "\n",
    "    quicksort(a,start,p-1)\n",
    "    quicksort(a,p+1,end)\n",
    "\n",
    "a = [29,99,27,41,66,28,44,78,87,19,31,76,58,88,83,97,12,21,44]\n",
    "\n",
    "quicksort(a,0,len(a)-1)\n",
    "print(a)"
   ]
  }
 ],
 "metadata": {
  "kernelspec": {
   "display_name": "Python 3.9.5 64-bit",
   "language": "python",
   "name": "python3"
  },
  "language_info": {
   "codemirror_mode": {
    "name": "ipython",
    "version": 3
   },
   "file_extension": ".py",
   "mimetype": "text/x-python",
   "name": "python",
   "nbconvert_exporter": "python",
   "pygments_lexer": "ipython3",
   "version": "3.9.5"
  },
  "orig_nbformat": 4,
  "vscode": {
   "interpreter": {
    "hash": "d29ae45c3f5dd95843c0ac5c4f4c047e787eb94f396a822c6bfe7fe2c0b7e936"
   }
  }
 },
 "nbformat": 4,
 "nbformat_minor": 2
}
